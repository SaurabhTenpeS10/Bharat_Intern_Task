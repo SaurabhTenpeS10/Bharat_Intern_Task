{
 "cells": [
  {
   "cell_type": "markdown",
   "id": "cd04a417",
   "metadata": {},
   "source": [
    "# House Price Prediction :\n",
    "Machine Learning model to predict house\n",
    "price using linear regression only\n",
    "Jupyter notebook code.."
   ]
  },
  {
   "cell_type": "code",
   "execution_count": null,
   "id": "dffb1dda",
   "metadata": {},
   "outputs": [],
   "source": [
    "import pandas as pd\n",
    "import seaborn as sns\n",
    "from sklearn.preprocessing import LabelEncoder\n",
    "from sklearn.impute import KNNImputer\n",
    "import matplotlib.pyplot as plt\n",
    "from sklearn.feature_selection import VarianceThreshold\n",
    "from sklearn.model_selection import train_test_split\n",
    "from sklearn.linear_model import LinearRegression"
   ]
  },
  {
   "cell_type": "markdown",
   "id": "c61a3902",
   "metadata": {},
   "source": [
    "## Load the Dataset"
   ]
  },
  {
   "cell_type": "code",
   "execution_count": null,
   "id": "03a5d07f",
   "metadata": {},
   "outputs": [],
   "source": [
    "df = pd.read_csv('MagicBricks.csv');\n",
    "df"
   ]
  },
  {
   "cell_type": "markdown",
   "id": "44d8f701",
   "metadata": {},
   "source": [
    "## Label Encoding"
   ]
  },
  {
   "cell_type": "code",
   "execution_count": null,
   "id": "3c295795",
   "metadata": {},
   "outputs": [],
   "source": [
    "le = LabelEncoder()\n",
    "column = [\"Furnishing\", \"Locality\", \"Status\", \"Transaction\", \"Type\", \"Per_Sqft\"]\n",
    "df[column] = df[column].apply(lambda col: le.fit_transform(col))"
   ]
  },
  {
   "cell_type": "markdown",
   "id": "5cc199d7",
   "metadata": {},
   "source": [
    "## Separate features (X) and target (y)"
   ]
  },
  {
   "cell_type": "code",
   "execution_count": null,
   "id": "442b425b",
   "metadata": {},
   "outputs": [],
   "source": [
    "X = df.drop(['Price'],axis=1)\n",
    "X"
   ]
  },
  {
   "cell_type": "code",
   "execution_count": null,
   "id": "bfaceb2f",
   "metadata": {},
   "outputs": [],
   "source": [
    "y = df[['Price']]\n",
    "y"
   ]
  },
  {
   "cell_type": "markdown",
   "id": "aaa951c7",
   "metadata": {},
   "source": [
    "## Impute missing values using KNN imputation"
   ]
  },
  {
   "cell_type": "code",
   "execution_count": null,
   "id": "0a072c19",
   "metadata": {},
   "outputs": [],
   "source": [
    "imputer = KNNImputer(n_neighbors=5)\n",
    "X_imputed = imputer.fit_transform(X)\n",
    "X_imputed = pd.DataFrame(X_imputed, columns=X.columns)"
   ]
  },
  {
   "cell_type": "markdown",
   "id": "fbc4af43",
   "metadata": {},
   "source": [
    "## Feature selection using VarianceThreshold"
   ]
  },
  {
   "cell_type": "code",
   "execution_count": null,
   "id": "5fcb3f51",
   "metadata": {},
   "outputs": [],
   "source": [
    "threshold_value = 0.01\n",
    "selector = VarianceThreshold(threshold=threshold_value)\n",
    "X_selected = selector.fit_transform(X_imputed)\n",
    "selected_feature_indices = selector.get_support(indices=True)"
   ]
  },
  {
   "cell_type": "code",
   "execution_count": null,
   "id": "0b98b6fb",
   "metadata": {},
   "outputs": [],
   "source": [
    "# Create a new DataFrame with the selected features\n",
    "X_selected_df = X_imputed.iloc[:, selected_feature_indices]\n",
    "\n",
    "# Now X_selected_df contains the selected features\n",
    "print(X_selected_df)\n",
    "\n",
    "# Update X to contain the selected features\n",
    "X = X_selected_df"
   ]
  },
  {
   "cell_type": "markdown",
   "id": "eaa4fac9",
   "metadata": {},
   "source": [
    "# Correlation Matrix Heatmap Visualization"
   ]
  },
  {
   "cell_type": "code",
   "execution_count": null,
   "id": "64a43e45",
   "metadata": {},
   "outputs": [],
   "source": [
    "plt.figure(figsize=(10, 6))\n",
    "sns.heatmap(X.corr(), annot=True, cmap='coolwarm', fmt=\".2f\")\n",
    "plt.title(\"Correlation Matrix Heatmap\")\n",
    "plt.show()"
   ]
  },
  {
   "cell_type": "markdown",
   "id": "f11c6d49",
   "metadata": {},
   "source": [
    "## Split data into training and testing sets"
   ]
  },
  {
   "cell_type": "code",
   "execution_count": null,
   "id": "36266194",
   "metadata": {},
   "outputs": [],
   "source": [
    "X_train,X_test,y_train,y_test = train_test_split(X,y,test_size=0.3,random_state=42)"
   ]
  },
  {
   "cell_type": "markdown",
   "id": "2b5a9d9b",
   "metadata": {},
   "source": [
    "## Create Linear Regression Model"
   ]
  },
  {
   "cell_type": "code",
   "execution_count": null,
   "id": "6718875f",
   "metadata": {},
   "outputs": [],
   "source": [
    "lr = LinearRegression()\n",
    "lr.fit(X_train,y_train)"
   ]
  },
  {
   "cell_type": "markdown",
   "id": "3c0c799f",
   "metadata": {},
   "source": [
    "## Evalution"
   ]
  },
  {
   "cell_type": "code",
   "execution_count": null,
   "id": "1de86de3",
   "metadata": {},
   "outputs": [],
   "source": [
    "lr.score(X_test,y_test)"
   ]
  }
 ],
 "metadata": {
  "kernelspec": {
   "display_name": "Python 3 (ipykernel)",
   "language": "python",
   "name": "python3"
  },
  "language_info": {
   "codemirror_mode": {
    "name": "ipython",
    "version": 3
   },
   "file_extension": ".py",
   "mimetype": "text/x-python",
   "name": "python",
   "nbconvert_exporter": "python",
   "pygments_lexer": "ipython3",
   "version": "3.9.13"
  }
 },
 "nbformat": 4,
 "nbformat_minor": 5
}
